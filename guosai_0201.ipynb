{
 "cells": [
  {
   "cell_type": "code",
   "execution_count": 1,
   "metadata": {},
   "outputs": [],
   "source": [
    "#订购方案\n",
    "\n",
    "import matplotlib.pyplot as plt\n",
    "import pandas as pd\n",
    "import numpy as np\n",
    "import xlrd\n",
    "import xlwt\n",
    "import pandas as pd\n",
    "from pandas.core.frame import DataFrame\n",
    "import numpy as np\n",
    "from scipy.stats import zscore"
   ]
  },
  {
   "cell_type": "code",
   "execution_count": 2,
   "metadata": {},
   "outputs": [
    {
     "name": "stdout",
     "output_type": "stream",
     "text": [
      "All sheets: ['企业的订货量（m³）', '供应商的供货量（m³）']\n",
      "Sheet2 Name: 供应商的供货量（m³）\n",
      "Sheet2 cols: 242\n",
      "Sheet1 rows: 403\n"
     ]
    }
   ],
   "source": [
    "# 打开文件\n",
    "xlsx = xlrd.open_workbook('附件1 近5年402家供应商的相关数据.xlsx')\n",
    "# 查看所有sheet列表\n",
    "print('All sheets: %s' % xlsx.sheet_names())\n",
    "sheet2 = xlsx.sheets()[1]    # 获得第1张sheet，索引从0开始\n",
    "sheet2_name = sheet2.name    # 获得名称\n",
    "sheet2_cols = sheet2.ncols   # 获得列数\n",
    "sheet2_nrows = sheet2.nrows  # 获得行数\n",
    "print('Sheet2 Name: %s\\nSheet2 cols: %s\\nSheet1 rows: %s' % (sheet2_name, sheet2_cols, sheet2_nrows))\n"
   ]
  },
  {
   "cell_type": "code",
   "execution_count": 3,
   "metadata": {},
   "outputs": [],
   "source": [
    "dic_g={}"
   ]
  },
  {
   "cell_type": "code",
   "execution_count": 4,
   "metadata": {},
   "outputs": [],
   "source": [
    "for i in range(sheet2.nrows-1):\n",
    "            lis_1=[]\n",
    "            sum_g=0\n",
    "            \n",
    "            for j in range(2,sheet2.ncols):\n",
    "                lis_1.append(sheet2.cell(i+1,j).value)\n",
    "                \n",
    "            dic_g[sheet2.cell(i+1,0).value]=lis_1\n",
    "           "
   ]
  },
  {
   "cell_type": "code",
   "execution_count": 5,
   "metadata": {},
   "outputs": [],
   "source": [
    "dic_gong=list(dic_g.values())"
   ]
  },
  {
   "cell_type": "code",
   "execution_count": 6,
   "metadata": {},
   "outputs": [],
   "source": [
    "dic_gg={}\n",
    "for i in range(1,402):\n",
    "    dic_gg[i]=dic_gong[i]"
   ]
  },
  {
   "cell_type": "code",
   "execution_count": null,
   "metadata": {},
   "outputs": [],
   "source": []
  },
  {
   "cell_type": "code",
   "execution_count": 7,
   "metadata": {},
   "outputs": [
    {
     "name": "stdout",
     "output_type": "stream",
     "text": [
      "All sheets: ['指标分析', 'Sheet1', 'Sheet2']\n"
     ]
    }
   ],
   "source": [
    "xlsx_1 = xlrd.open_workbook('排名.xlsx')\n",
    "# 查看所有sheet列表\n",
    "print('All sheets: %s' % xlsx_1.sheet_names())"
   ]
  },
  {
   "cell_type": "code",
   "execution_count": 8,
   "metadata": {},
   "outputs": [
    {
     "name": "stdout",
     "output_type": "stream",
     "text": [
      "Sheet1 Name: Sheet2\n",
      "Sheet1 cols: 1\n",
      "Sheet1 rows: 51\n"
     ]
    }
   ],
   "source": [
    "sheet1 = xlsx_1.sheets()[2]    # 获得第1张sheet，索引从0开始\n",
    "sheet1_name = sheet1.name    # 获得名称\n",
    "sheet1_cols = sheet1.ncols   # 获得列数\n",
    "sheet1_nrows = sheet1.nrows  # 获得行数\n",
    "print('Sheet1 Name: %s\\nSheet1 cols: %s\\nSheet1 rows: %s' % (sheet1_name, sheet1_cols, sheet1_nrows))\n"
   ]
  },
  {
   "cell_type": "code",
   "execution_count": 9,
   "metadata": {},
   "outputs": [],
   "source": [
    "paiming=[]\n",
    "for i in range(1,sheet1.nrows):\n",
    "       paiming.append(int(sheet1.cell(i,0).value))  \n",
    "                \n",
    "            "
   ]
  },
  {
   "cell_type": "code",
   "execution_count": 10,
   "metadata": {},
   "outputs": [],
   "source": [
    "list_type=[]\n",
    "for j in range(1,sheet2.nrows):\n",
    "    list_type.append(sheet2.cell(j,1).value)"
   ]
  },
  {
   "cell_type": "code",
   "execution_count": 11,
   "metadata": {},
   "outputs": [],
   "source": [
    "gong_si=[]\n",
    "gong_t=[]\n"
   ]
  },
  {
   "cell_type": "code",
   "execution_count": 12,
   "metadata": {},
   "outputs": [],
   "source": [
    "for i in range(len(paiming)):\n",
    "    for key in dic_gg:\n",
    "        #print(key)\n",
    "        if key==paiming[i]:\n",
    "            #print(dic_gg[key-1])\n",
    "            gong_si.append(dic_gg[key-1])\n",
    "            gong_t.append(list_type[key-1])"
   ]
  },
  {
   "cell_type": "code",
   "execution_count": null,
   "metadata": {},
   "outputs": [],
   "source": []
  },
  {
   "cell_type": "code",
   "execution_count": 13,
   "metadata": {},
   "outputs": [],
   "source": [
    "first_50=pd.DataFrame(gong_si)\n",
    "first_50_t=pd.DataFrame(gong_t)"
   ]
  },
  {
   "cell_type": "code",
   "execution_count": 14,
   "metadata": {},
   "outputs": [],
   "source": [
    "first_50.to_excel(\"3.xlsx\", sheet_name=\"排名\")\n"
   ]
  },
  {
   "cell_type": "code",
   "execution_count": 15,
   "metadata": {},
   "outputs": [],
   "source": [
    "first_50_t.to_excel(\"4.xlsx\", sheet_name=\"type\")\n"
   ]
  },
  {
   "cell_type": "code",
   "execution_count": 99,
   "metadata": {},
   "outputs": [],
   "source": [
    "#给前50名商家做预测\n",
    "def GM11(x, n):\n",
    "    '''\n",
    "    灰色预测\n",
    "    x：序列，numpy对象\n",
    "    n:需要往后预测的个数\n",
    "    '''\n",
    "    x1 = x.cumsum()  # 一次累加\n",
    "    z1 = (x1[:len(x1) - 1] + x1[1:]) / 2.0  # 紧邻均值\n",
    "    z1 = z1.reshape((len(z1), 1))\n",
    "    B = np.append(-z1, np.ones_like(z1), axis=1)\n",
    "    Y = x[1:].reshape((len(x) - 1, 1))\n",
    "    # a为发展系数 b为灰色作用量\n",
    "    [[a], [b]] = np.dot(np.dot(np.linalg.inv(np.dot(B.T, B)), B.T), Y)  # 计算参数\n",
    "    result = (x[0] - b / a) * np.exp(-a * (n - 1)) - (x[0] - b / a) * np.exp(-a * (n - 2))\n",
    "    S1_2 = x.var()  # 原序列方差\n",
    "    e = list()  # 残差序列\n",
    "    for index in range(1, x.shape[0] + 1):\n",
    "        predict = (x[0] - b / a) * np.exp(-a * (index - 1)) - (x[0] - b / a) * np.exp(-a * (index - 2))\n",
    "        e.append(x[index - 1] - predict)\n",
    "    S2_2 = np.array(e).var()  # 残差方差\n",
    "    C = S2_2 / S1_2  # 后验差比\n",
    "    print(C)\n",
    "    if C <= 0.35:\n",
    "        assess = '后验差比<=0.35，模型精度等级为好'\n",
    "    elif C <= 0.5:\n",
    "        assess = '后验差比<=0.5，模型精度等级为合格'\n",
    "    elif C <= 0.65:\n",
    "        assess = '后验差比<=0.65，模型精度等级为勉强'\n",
    "    else:\n",
    "        assess = '后验差比>0.65，模型精度等级为不合格'\n",
    "    # 预测数据\n",
    "    predict = list()\n",
    "    for index in range(x.shape[0] + 1, x.shape[0] + n + 1):\n",
    "        predict.append((x[0] - b / a) * np.exp(-a * (index - 1)) - (x[0] - b / a) * np.exp(-a * (index - 2)))\n",
    "    predict = np.array(predict)\n",
    "    return {\n",
    "        'a': {'value': a, 'desc': '发展系数'},\n",
    "        'b': {'value': b, 'desc': '灰色作用量'},\n",
    "        'predict': {'value': result, 'desc': '第%d个预测值' % n},\n",
    "        'C': {'value': C, 'desc': assess},\n",
    "        'predict': {'value': predict, 'desc': '往后预测%d个的序列' % (n)},\n",
    "    }\n"
   ]
  },
  {
   "cell_type": "code",
   "execution_count": 101,
   "metadata": {},
   "outputs": [
    {
     "name": "stdout",
     "output_type": "stream",
     "text": [
      "All sheets: ['Sheet1']\n",
      "0.06225431220384459\n",
      "预测值: [9643.]\n",
      "0.35687113416111754\n",
      "预测值: [2089.]\n",
      "0.179915531248323\n",
      "预测值: [1549.]\n",
      "0.12422033379323778\n",
      "预测值: [4300.]\n",
      "0.13161365554658724\n",
      "预测值: [625.]\n",
      "0.10072435446541439\n",
      "预测值: [1552.]\n",
      "0.0684767768458593\n",
      "预测值: [2064.]\n",
      "2.1228163830848996\n",
      "预测值: [3550.]\n",
      "0.22334883921602408\n",
      "预测值: [8224.]\n",
      "0.08156303940836533\n",
      "预测值: [1022.]\n",
      "0.11329515604261568\n",
      "预测值: [672.]\n",
      "0.04179602547514522\n",
      "预测值: [68296.]\n",
      "0.04203298847595191\n",
      "预测值: [84097.]\n",
      "0.33319510476616226\n",
      "预测值: [1061.]\n",
      "0.05509973937706734\n",
      "预测值: [1932.]\n",
      "0.0588924416684229\n",
      "预测值: [605.]\n",
      "0.07880560409423668\n",
      "预测值: [437.]\n",
      "0.06258337043463567\n",
      "预测值: [44048.]\n",
      "0.08247069178354317\n",
      "预测值: [471.]\n",
      "0.052154782930028586\n",
      "预测值: [1501.]\n",
      "0.04575066905230675\n",
      "预测值: [15158.]\n",
      "0.08514449732743666\n",
      "预测值: [12192.]\n",
      "0.5072813844114191\n",
      "预测值: [121.]\n",
      "0.08314461080421064\n",
      "预测值: [7720.]\n",
      "0.12564722925154717\n",
      "预测值: [326.]\n",
      "0.22979395114286622\n",
      "预测值: [346.]\n",
      "0.03787193401268326\n",
      "预测值: [459324.]\n",
      "0.29834441099039327\n",
      "预测值: [207.]\n",
      "0.9654302663322382\n",
      "预测值: [214.]\n",
      "0.4372460909309673\n",
      "预测值: [215.]\n",
      "0.0705142157069334\n",
      "预测值: [378.]\n",
      "0.8812548105920026\n",
      "预测值: [1577.]\n",
      "0.09956272670571721\n",
      "预测值: [348.]\n",
      "0.06040903261817925\n",
      "预测值: [121.]\n",
      "0.780393666847559\n",
      "预测值: [0.]\n",
      "0.17595842235704856\n",
      "预测值: [1093.]\n",
      "0.6088125940732939\n",
      "预测值: [195.]\n",
      "0.060026692372316184\n",
      "预测值: [128.]\n",
      "6208.999999999999\n",
      "预测值: [128.]\n",
      "0.05365128616692024\n",
      "预测值: [1906.]\n",
      "0.9798962815315617\n",
      "预测值: [343.]\n",
      "0.05287766505595417\n",
      "预测值: [258.]\n",
      "1.5471923646416295\n",
      "预测值: [127.]\n",
      "0.4101590454339736\n",
      "预测值: [4.]\n",
      "0.04908708330027176\n",
      "预测值: [11.]\n",
      "0.29571435573546323\n",
      "预测值: [8.]\n"
     ]
    },
    {
     "ename": "LinAlgError",
     "evalue": "Singular matrix",
     "output_type": "error",
     "traceback": [
      "\u001b[0;31m---------------------------------------------------------------------------\u001b[0m",
      "\u001b[0;31mLinAlgError\u001b[0m                               Traceback (most recent call last)",
      "\u001b[0;32m<ipython-input-101-679c96ee9c08>\u001b[0m in \u001b[0;36m<module>\u001b[0;34m\u001b[0m\n\u001b[1;32m     17\u001b[0m         \u001b[0mx\u001b[0m \u001b[0;34m=\u001b[0m \u001b[0mdata\u001b[0m\u001b[0;34m[\u001b[0m\u001b[0;36m6\u001b[0m\u001b[0;34m:\u001b[0m\u001b[0;36m11\u001b[0m\u001b[0;34m]\u001b[0m\u001b[0;31m# 输入数据\u001b[0m\u001b[0;34m\u001b[0m\u001b[0;34m\u001b[0m\u001b[0m\n\u001b[1;32m     18\u001b[0m         \u001b[0my\u001b[0m \u001b[0;34m=\u001b[0m \u001b[0mrange\u001b[0m\u001b[0;34m(\u001b[0m\u001b[0;36m1\u001b[0m\u001b[0;34m)\u001b[0m \u001b[0;31m# 需要预测的数据\u001b[0m\u001b[0;34m\u001b[0m\u001b[0;34m\u001b[0m\u001b[0m\n\u001b[0;32m---> 19\u001b[0;31m         \u001b[0mresult\u001b[0m \u001b[0;34m=\u001b[0m \u001b[0mGM11\u001b[0m\u001b[0;34m(\u001b[0m\u001b[0mx\u001b[0m\u001b[0;34m,\u001b[0m \u001b[0mlen\u001b[0m\u001b[0;34m(\u001b[0m\u001b[0my\u001b[0m\u001b[0;34m)\u001b[0m\u001b[0;34m)\u001b[0m\u001b[0;34m\u001b[0m\u001b[0;34m\u001b[0m\u001b[0m\n\u001b[0m\u001b[1;32m     20\u001b[0m         \u001b[0mpredict\u001b[0m \u001b[0;34m=\u001b[0m \u001b[0mresult\u001b[0m\u001b[0;34m[\u001b[0m\u001b[0;34m'predict'\u001b[0m\u001b[0;34m]\u001b[0m\u001b[0;34m[\u001b[0m\u001b[0;34m'value'\u001b[0m\u001b[0;34m]\u001b[0m\u001b[0;34m\u001b[0m\u001b[0;34m\u001b[0m\u001b[0m\n\u001b[1;32m     21\u001b[0m         \u001b[0;32mif\u001b[0m \u001b[0;34m(\u001b[0m\u001b[0mpredict\u001b[0m\u001b[0;34m<=\u001b[0m\u001b[0;36m0\u001b[0m\u001b[0;34m)\u001b[0m\u001b[0;34m:\u001b[0m\u001b[0;34m\u001b[0m\u001b[0;34m\u001b[0m\u001b[0m\n",
      "\u001b[0;32m<ipython-input-99-8d85ec715f64>\u001b[0m in \u001b[0;36mGM11\u001b[0;34m(x, n)\u001b[0m\n\u001b[1;32m     12\u001b[0m     \u001b[0mY\u001b[0m \u001b[0;34m=\u001b[0m \u001b[0mx\u001b[0m\u001b[0;34m[\u001b[0m\u001b[0;36m1\u001b[0m\u001b[0;34m:\u001b[0m\u001b[0;34m]\u001b[0m\u001b[0;34m.\u001b[0m\u001b[0mreshape\u001b[0m\u001b[0;34m(\u001b[0m\u001b[0;34m(\u001b[0m\u001b[0mlen\u001b[0m\u001b[0;34m(\u001b[0m\u001b[0mx\u001b[0m\u001b[0;34m)\u001b[0m \u001b[0;34m-\u001b[0m \u001b[0;36m1\u001b[0m\u001b[0;34m,\u001b[0m \u001b[0;36m1\u001b[0m\u001b[0;34m)\u001b[0m\u001b[0;34m)\u001b[0m\u001b[0;34m\u001b[0m\u001b[0;34m\u001b[0m\u001b[0m\n\u001b[1;32m     13\u001b[0m     \u001b[0;31m# a为发展系数 b为灰色作用量\u001b[0m\u001b[0;34m\u001b[0m\u001b[0;34m\u001b[0m\u001b[0;34m\u001b[0m\u001b[0m\n\u001b[0;32m---> 14\u001b[0;31m     \u001b[0;34m[\u001b[0m\u001b[0;34m[\u001b[0m\u001b[0ma\u001b[0m\u001b[0;34m]\u001b[0m\u001b[0;34m,\u001b[0m \u001b[0;34m[\u001b[0m\u001b[0mb\u001b[0m\u001b[0;34m]\u001b[0m\u001b[0;34m]\u001b[0m \u001b[0;34m=\u001b[0m \u001b[0mnp\u001b[0m\u001b[0;34m.\u001b[0m\u001b[0mdot\u001b[0m\u001b[0;34m(\u001b[0m\u001b[0mnp\u001b[0m\u001b[0;34m.\u001b[0m\u001b[0mdot\u001b[0m\u001b[0;34m(\u001b[0m\u001b[0mnp\u001b[0m\u001b[0;34m.\u001b[0m\u001b[0mlinalg\u001b[0m\u001b[0;34m.\u001b[0m\u001b[0minv\u001b[0m\u001b[0;34m(\u001b[0m\u001b[0mnp\u001b[0m\u001b[0;34m.\u001b[0m\u001b[0mdot\u001b[0m\u001b[0;34m(\u001b[0m\u001b[0mB\u001b[0m\u001b[0;34m.\u001b[0m\u001b[0mT\u001b[0m\u001b[0;34m,\u001b[0m \u001b[0mB\u001b[0m\u001b[0;34m)\u001b[0m\u001b[0;34m)\u001b[0m\u001b[0;34m,\u001b[0m \u001b[0mB\u001b[0m\u001b[0;34m.\u001b[0m\u001b[0mT\u001b[0m\u001b[0;34m)\u001b[0m\u001b[0;34m,\u001b[0m \u001b[0mY\u001b[0m\u001b[0;34m)\u001b[0m  \u001b[0;31m# 计算参数\u001b[0m\u001b[0;34m\u001b[0m\u001b[0;34m\u001b[0m\u001b[0m\n\u001b[0m\u001b[1;32m     15\u001b[0m     \u001b[0mresult\u001b[0m \u001b[0;34m=\u001b[0m \u001b[0;34m(\u001b[0m\u001b[0mx\u001b[0m\u001b[0;34m[\u001b[0m\u001b[0;36m0\u001b[0m\u001b[0;34m]\u001b[0m \u001b[0;34m-\u001b[0m \u001b[0mb\u001b[0m \u001b[0;34m/\u001b[0m \u001b[0ma\u001b[0m\u001b[0;34m)\u001b[0m \u001b[0;34m*\u001b[0m \u001b[0mnp\u001b[0m\u001b[0;34m.\u001b[0m\u001b[0mexp\u001b[0m\u001b[0;34m(\u001b[0m\u001b[0;34m-\u001b[0m\u001b[0ma\u001b[0m \u001b[0;34m*\u001b[0m \u001b[0;34m(\u001b[0m\u001b[0mn\u001b[0m \u001b[0;34m-\u001b[0m \u001b[0;36m1\u001b[0m\u001b[0;34m)\u001b[0m\u001b[0;34m)\u001b[0m \u001b[0;34m-\u001b[0m \u001b[0;34m(\u001b[0m\u001b[0mx\u001b[0m\u001b[0;34m[\u001b[0m\u001b[0;36m0\u001b[0m\u001b[0;34m]\u001b[0m \u001b[0;34m-\u001b[0m \u001b[0mb\u001b[0m \u001b[0;34m/\u001b[0m \u001b[0ma\u001b[0m\u001b[0;34m)\u001b[0m \u001b[0;34m*\u001b[0m \u001b[0mnp\u001b[0m\u001b[0;34m.\u001b[0m\u001b[0mexp\u001b[0m\u001b[0;34m(\u001b[0m\u001b[0;34m-\u001b[0m\u001b[0ma\u001b[0m \u001b[0;34m*\u001b[0m \u001b[0;34m(\u001b[0m\u001b[0mn\u001b[0m \u001b[0;34m-\u001b[0m \u001b[0;36m2\u001b[0m\u001b[0;34m)\u001b[0m\u001b[0;34m)\u001b[0m\u001b[0;34m\u001b[0m\u001b[0;34m\u001b[0m\u001b[0m\n\u001b[1;32m     16\u001b[0m     \u001b[0mS1_2\u001b[0m \u001b[0;34m=\u001b[0m \u001b[0mx\u001b[0m\u001b[0;34m.\u001b[0m\u001b[0mvar\u001b[0m\u001b[0;34m(\u001b[0m\u001b[0;34m)\u001b[0m  \u001b[0;31m# 原序列方差\u001b[0m\u001b[0;34m\u001b[0m\u001b[0;34m\u001b[0m\u001b[0m\n",
      "\u001b[0;32m<__array_function__ internals>\u001b[0m in \u001b[0;36minv\u001b[0;34m(*args, **kwargs)\u001b[0m\n",
      "\u001b[0;32m~/opt/anaconda3/lib/python3.8/site-packages/numpy/linalg/linalg.py\u001b[0m in \u001b[0;36minv\u001b[0;34m(a)\u001b[0m\n\u001b[1;32m    544\u001b[0m     \u001b[0msignature\u001b[0m \u001b[0;34m=\u001b[0m \u001b[0;34m'D->D'\u001b[0m \u001b[0;32mif\u001b[0m \u001b[0misComplexType\u001b[0m\u001b[0;34m(\u001b[0m\u001b[0mt\u001b[0m\u001b[0;34m)\u001b[0m \u001b[0;32melse\u001b[0m \u001b[0;34m'd->d'\u001b[0m\u001b[0;34m\u001b[0m\u001b[0;34m\u001b[0m\u001b[0m\n\u001b[1;32m    545\u001b[0m     \u001b[0mextobj\u001b[0m \u001b[0;34m=\u001b[0m \u001b[0mget_linalg_error_extobj\u001b[0m\u001b[0;34m(\u001b[0m\u001b[0m_raise_linalgerror_singular\u001b[0m\u001b[0;34m)\u001b[0m\u001b[0;34m\u001b[0m\u001b[0;34m\u001b[0m\u001b[0m\n\u001b[0;32m--> 546\u001b[0;31m     \u001b[0mainv\u001b[0m \u001b[0;34m=\u001b[0m \u001b[0m_umath_linalg\u001b[0m\u001b[0;34m.\u001b[0m\u001b[0minv\u001b[0m\u001b[0;34m(\u001b[0m\u001b[0ma\u001b[0m\u001b[0;34m,\u001b[0m \u001b[0msignature\u001b[0m\u001b[0;34m=\u001b[0m\u001b[0msignature\u001b[0m\u001b[0;34m,\u001b[0m \u001b[0mextobj\u001b[0m\u001b[0;34m=\u001b[0m\u001b[0mextobj\u001b[0m\u001b[0;34m)\u001b[0m\u001b[0;34m\u001b[0m\u001b[0;34m\u001b[0m\u001b[0m\n\u001b[0m\u001b[1;32m    547\u001b[0m     \u001b[0;32mreturn\u001b[0m \u001b[0mwrap\u001b[0m\u001b[0;34m(\u001b[0m\u001b[0mainv\u001b[0m\u001b[0;34m.\u001b[0m\u001b[0mastype\u001b[0m\u001b[0;34m(\u001b[0m\u001b[0mresult_t\u001b[0m\u001b[0;34m,\u001b[0m \u001b[0mcopy\u001b[0m\u001b[0;34m=\u001b[0m\u001b[0;32mFalse\u001b[0m\u001b[0;34m)\u001b[0m\u001b[0;34m)\u001b[0m\u001b[0;34m\u001b[0m\u001b[0;34m\u001b[0m\u001b[0m\n\u001b[1;32m    548\u001b[0m \u001b[0;34m\u001b[0m\u001b[0m\n",
      "\u001b[0;32m~/opt/anaconda3/lib/python3.8/site-packages/numpy/linalg/linalg.py\u001b[0m in \u001b[0;36m_raise_linalgerror_singular\u001b[0;34m(err, flag)\u001b[0m\n\u001b[1;32m     86\u001b[0m \u001b[0;34m\u001b[0m\u001b[0m\n\u001b[1;32m     87\u001b[0m \u001b[0;32mdef\u001b[0m \u001b[0m_raise_linalgerror_singular\u001b[0m\u001b[0;34m(\u001b[0m\u001b[0merr\u001b[0m\u001b[0;34m,\u001b[0m \u001b[0mflag\u001b[0m\u001b[0;34m)\u001b[0m\u001b[0;34m:\u001b[0m\u001b[0;34m\u001b[0m\u001b[0;34m\u001b[0m\u001b[0m\n\u001b[0;32m---> 88\u001b[0;31m     \u001b[0;32mraise\u001b[0m \u001b[0mLinAlgError\u001b[0m\u001b[0;34m(\u001b[0m\u001b[0;34m\"Singular matrix\"\u001b[0m\u001b[0;34m)\u001b[0m\u001b[0;34m\u001b[0m\u001b[0;34m\u001b[0m\u001b[0m\n\u001b[0m\u001b[1;32m     89\u001b[0m \u001b[0;34m\u001b[0m\u001b[0m\n\u001b[1;32m     90\u001b[0m \u001b[0;32mdef\u001b[0m \u001b[0m_raise_linalgerror_nonposdef\u001b[0m\u001b[0;34m(\u001b[0m\u001b[0merr\u001b[0m\u001b[0;34m,\u001b[0m \u001b[0mflag\u001b[0m\u001b[0;34m)\u001b[0m\u001b[0;34m:\u001b[0m\u001b[0;34m\u001b[0m\u001b[0;34m\u001b[0m\u001b[0m\n",
      "\u001b[0;31mLinAlgError\u001b[0m: Singular matrix"
     ]
    }
   ],
   "source": [
    "if __name__ == '__main__':\n",
    "    xlsx = xlrd.open_workbook('每年最大值-50.xlsx')\n",
    "    # 查看所有sheet列表\n",
    "    print('All sheets: %s' % xlsx.sheet_names())\n",
    "    sheet3 = xlsx.sheets()[0]    # 获得第1张sheet，索引从0开始\n",
    "    dic={}\n",
    "    for i in range(sheet3.nrows-1):\n",
    "            lis=[]\n",
    "            for j in range(2,sheet3.ncols):\n",
    "                lis.append(sheet3.cell(i+1,j).value)\n",
    "            dic[sheet3.cell(i+1,0).value]=lis\n",
    "    dic_50=list(dic.values())\n",
    "    re=[]\n",
    "    for i in range (0,50):\n",
    "        S1=dic_50[i]\n",
    "        data = np.array(S1)\n",
    "        x = data[6:11]# 输入数据\n",
    "        y = range(1) # 需要预测的数据\n",
    "        result = GM11(x, len(y))\n",
    "        predict = result['predict']['value']\n",
    "        if (predict<=0):\n",
    "            predict=[0.0]\n",
    "        else:\n",
    "            predict = np.round(predict, 0)\n",
    "        re.append(predict)\n",
    "        #predict=DataFrame(predict)#这时候是以行为标准写入的\n",
    "        #predict=predict.T#转置之后得到想要的结果\n",
    "\n",
    "        print('预测值:', predict)\n",
    "       "
   ]
  },
  {
   "cell_type": "markdown",
   "metadata": {},
   "source": []
  },
  {
   "cell_type": "code",
   "execution_count": 102,
   "metadata": {},
   "outputs": [],
   "source": [
    "ll=[]\n",
    "for i in range(len(re)):\n",
    "    ll.append(list(re[i]))"
   ]
  },
  {
   "cell_type": "code",
   "execution_count": 103,
   "metadata": {},
   "outputs": [
    {
     "data": {
      "text/plain": [
       "[[9643.0],\n",
       " [2089.0],\n",
       " [1549.0],\n",
       " [4300.0],\n",
       " [625.0],\n",
       " [1552.0],\n",
       " [2064.0],\n",
       " [3550.0],\n",
       " [8224.0],\n",
       " [1022.0],\n",
       " [672.0],\n",
       " [68296.0],\n",
       " [84097.0],\n",
       " [1061.0],\n",
       " [1932.0],\n",
       " [605.0],\n",
       " [437.0],\n",
       " [44048.0],\n",
       " [471.0],\n",
       " [1501.0],\n",
       " [15158.0],\n",
       " [12192.0],\n",
       " [121.0],\n",
       " [7720.0],\n",
       " [326.0],\n",
       " [346.0],\n",
       " [459324.0],\n",
       " [207.0],\n",
       " [214.0],\n",
       " [215.0],\n",
       " [378.0],\n",
       " [1577.0],\n",
       " [348.0],\n",
       " [121.0],\n",
       " [0.0],\n",
       " [1093.0],\n",
       " [195.0],\n",
       " [128.0],\n",
       " [128.0],\n",
       " [1906.0],\n",
       " [343.0],\n",
       " [258.0],\n",
       " [127.0],\n",
       " [4.0],\n",
       " [11.0],\n",
       " [8.0]]"
      ]
     },
     "execution_count": 103,
     "metadata": {},
     "output_type": "execute_result"
    }
   ],
   "source": [
    "ll"
   ]
  },
  {
   "cell_type": "code",
   "execution_count": 104,
   "metadata": {},
   "outputs": [],
   "source": [
    "ll=pd.DataFrame(ll)"
   ]
  },
  {
   "cell_type": "code",
   "execution_count": 105,
   "metadata": {},
   "outputs": [],
   "source": [
    "ll.to_excel(\"ll.xlsx\", sheet_name=\"5\")"
   ]
  },
  {
   "cell_type": "code",
   "execution_count": 33,
   "metadata": {},
   "outputs": [],
   "source": [
    "re=pd.DataFrame(re)"
   ]
  },
  {
   "cell_type": "code",
   "execution_count": 35,
   "metadata": {},
   "outputs": [],
   "source": [
    "re.to_excel(\"前50家24周预测.xlsx\", sheet_name=\"5\")"
   ]
  },
  {
   "cell_type": "code",
   "execution_count": null,
   "metadata": {},
   "outputs": [],
   "source": []
  }
 ],
 "metadata": {
  "kernelspec": {
   "display_name": "Python 3",
   "language": "python",
   "name": "python3"
  },
  "language_info": {
   "codemirror_mode": {
    "name": "ipython",
    "version": 3
   },
   "file_extension": ".py",
   "mimetype": "text/x-python",
   "name": "python",
   "nbconvert_exporter": "python",
   "pygments_lexer": "ipython3",
   "version": "3.8.5"
  }
 },
 "nbformat": 4,
 "nbformat_minor": 4
}
