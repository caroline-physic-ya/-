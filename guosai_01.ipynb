{
 "cells": [
  {
   "cell_type": "code",
   "execution_count": 1,
   "metadata": {},
   "outputs": [],
   "source": [
    "import xlrd\n",
    "import xlwt\n",
    "import pandas as pd\n",
    "from pandas.core.frame import DataFrame\n",
    "import numpy as np\n",
    "from scipy.stats import zscore"
   ]
  },
  {
   "cell_type": "code",
   "execution_count": 2,
   "metadata": {},
   "outputs": [
    {
     "name": "stdout",
     "output_type": "stream",
     "text": [
      "All sheets: ['企业的订货量（m³）', '供应商的供货量（m³）']\n"
     ]
    }
   ],
   "source": [
    "# 打开文件\n",
    "xlsx = xlrd.open_workbook('附件1 近5年402家供应商的相关数据.xlsx')\n",
    "# 查看所有sheet列表\n",
    "print('All sheets: %s' % xlsx.sheet_names())\n"
   ]
  },
  {
   "cell_type": "code",
   "execution_count": 3,
   "metadata": {},
   "outputs": [
    {
     "name": "stdout",
     "output_type": "stream",
     "text": [
      "Sheet1 Name: 企业的订货量（m³）\n",
      "Sheet1 cols: 242\n",
      "Sheet1 rows: 403\n",
      "Sheet2 Name: 供应商的供货量（m³）\n",
      "Sheet2 cols: 242\n",
      "Sheet1 rows: 403\n"
     ]
    }
   ],
   "source": [
    "sheet1 = xlsx.sheets()[0]    # 获得第1张sheet，索引从0开始\n",
    "sheet1_name = sheet1.name    # 获得名称\n",
    "sheet1_cols = sheet1.ncols   # 获得列数\n",
    "sheet1_nrows = sheet1.nrows  # 获得行数\n",
    "print('Sheet1 Name: %s\\nSheet1 cols: %s\\nSheet1 rows: %s' % (sheet1_name, sheet1_cols, sheet1_nrows))\n",
    "sheet2 = xlsx.sheets()[1]    # 获得第1张sheet，索引从0开始\n",
    "sheet2_name = sheet2.name    # 获得名称\n",
    "sheet2_cols = sheet2.ncols   # 获得列数\n",
    "sheet2_nrows = sheet2.nrows  # 获得行数\n",
    "print('Sheet2 Name: %s\\nSheet2 cols: %s\\nSheet1 rows: %s' % (sheet2_name, sheet2_cols, sheet2_nrows))\n"
   ]
  },
  {
   "cell_type": "code",
   "execution_count": 4,
   "metadata": {},
   "outputs": [],
   "source": [
    "dic={}\n",
    "sum_ding={}\n",
    "average_ding={}\n",
    "qiu_ding={}\n",
    "max_ding={}"
   ]
  },
  {
   "cell_type": "code",
   "execution_count": 5,
   "metadata": {},
   "outputs": [],
   "source": [
    "#转化订货量表\n",
    "for i in range(sheet1.nrows-1):\n",
    "            lis=[]\n",
    "            sum_qiu=0\n",
    "            for j in range(2,sheet1.ncols):\n",
    "                lis.append(sheet1.cell(i+1,j).value)\n",
    "                sum_qiu=sheet1.cell(i+1,j).value+sum_qiu\n",
    "            dic[sheet1.cell(i+1,0).value]=lis\n",
    "            #计算总的供应量\n",
    "            sum_ding[sheet1.cell(i+1,0).value]=sum_qiu\n",
    "            #计算供应量每周\n",
    "            average=sum_qiu/240\n",
    "            average_ding[sheet1.cell(i+1,0).value]=average\n",
    "            #最大供应量\n",
    "            max_ding[sheet1.cell(i+1,0).value]=max(lis)"
   ]
  },
  {
   "cell_type": "code",
   "execution_count": 6,
   "metadata": {},
   "outputs": [],
   "source": [
    "ID=[]"
   ]
  },
  {
   "cell_type": "code",
   "execution_count": 7,
   "metadata": {},
   "outputs": [],
   "source": [
    "#把商户信息提取出来\n",
    "ID=list(dic.keys())"
   ]
  },
  {
   "cell_type": "code",
   "execution_count": 8,
   "metadata": {},
   "outputs": [],
   "source": [
    "#把值提取出来转化成列表\n",
    "sum_d=list(sum_ding.values())\n",
    "ave_d=list(average_ding.values())\n",
    "max_d=list(max_ding.values())"
   ]
  },
  {
   "cell_type": "code",
   "execution_count": null,
   "metadata": {},
   "outputs": [],
   "source": []
  },
  {
   "cell_type": "code",
   "execution_count": 9,
   "metadata": {},
   "outputs": [],
   "source": [
    "def write_excel_xls(path, sheet_name, value):\n",
    "    index = len(value)  # 获取需要写入数据的行数\n",
    "    workbook = xlwt.Workbook()  # 新建一个工作簿\n",
    "    sheet = workbook.add_sheet(sheet_name)  # 在工作簿中新建一个表格\n",
    "    for i in range(0, index):\n",
    "        for j in range(0, len(value[i])):\n",
    "            sheet.write(i, j, value[i][j])  # 像表格中写入数据（对应的行和列）\n",
    "    workbook.save(path)  # 保存工作簿\n",
    "    print(\"xls格式表格写入数据成功！\")\n",
    "\n"
   ]
  },
  {
   "cell_type": "code",
   "execution_count": null,
   "metadata": {},
   "outputs": [],
   "source": []
  },
  {
   "cell_type": "code",
   "execution_count": 10,
   "metadata": {},
   "outputs": [],
   "source": [
    "dic_g={}\n",
    "average_gong={}\n",
    "qiu_gong={}\n",
    "max_gong={}\n",
    "sum_gong=[]"
   ]
  },
  {
   "cell_type": "code",
   "execution_count": 11,
   "metadata": {},
   "outputs": [],
   "source": [
    "#转化sheet2\n",
    "for i in range(sheet2.nrows-1):\n",
    "            lis_1=[]\n",
    "            sum_g=0\n",
    "            qiu_ding=0\n",
    "            for j in range(2,sheet2.ncols):\n",
    "                lis_1.append(sheet2.cell(i+1,j).value)\n",
    "                sum_g=sheet2.cell(i+1,j).value+sum_g\n",
    "                qiu_ding=abs(sheet2.cell(i+1,j).value-sheet1.cell(i+1,j).value)+qiu_ding\n",
    "            dic_g[sheet2.cell(i+1,0).value]=lis_1\n",
    "            #计算总的供货量\n",
    "            sum_gong.append(sum_g)\n",
    "            #计算平均供货量\n",
    "            average_g=sum_g/240\n",
    "            average_gong[sheet2.cell(i+1,0).value]=average_g\n",
    "            #计算订货量和供货量之间的差值的绝对值之和\n",
    "            qiu_gong[sheet2.cell(i+1,0).value]=qiu_ding\n",
    "            #最大供货量\n",
    "            max_gong[sheet2.cell(i+1,0).value]=max(lis_1)"
   ]
  },
  {
   "cell_type": "code",
   "execution_count": null,
   "metadata": {},
   "outputs": [],
   "source": []
  },
  {
   "cell_type": "code",
   "execution_count": 12,
   "metadata": {},
   "outputs": [],
   "source": [
    "#把字典values提取出来\n",
    "qiu_g=list(qiu_gong.values())\n",
    "ave_g=list(average_gong.values())\n",
    "max_g=list(max_gong.values())"
   ]
  },
  {
   "cell_type": "code",
   "execution_count": 13,
   "metadata": {},
   "outputs": [],
   "source": [
    "#订平均减去供平均\n",
    "ave=[ave_d[i]-ave_g[i]for i in range(0,len(ave_d))]"
   ]
  },
  {
   "cell_type": "code",
   "execution_count": 14,
   "metadata": {},
   "outputs": [],
   "source": [
    "#订最大和供最大\n",
    "max_dg=[max_d[i]-max_g[i]for i in range(0,len(max_d))]"
   ]
  },
  {
   "cell_type": "code",
   "execution_count": 15,
   "metadata": {},
   "outputs": [],
   "source": [
    "#gong/ding\n",
    "man_zu=[sum_gong[i]/sum_d[i]for i in range(0,len(sum_d))]\n"
   ]
  },
  {
   "cell_type": "code",
   "execution_count": 16,
   "metadata": {},
   "outputs": [],
   "source": [
    "lis_key=['满足率','订-供','供货总量','订货总量','平均供货量','平均订货量','平均值相减','供货量最大值','订最大-供最大']"
   ]
  },
  {
   "cell_type": "code",
   "execution_count": 17,
   "metadata": {},
   "outputs": [],
   "source": [
    "lis_value=[man_zu,qiu_g,sum_gong,sum_d,ave_g,ave_d,ave,max_g,max_dg]"
   ]
  },
  {
   "cell_type": "code",
   "execution_count": 18,
   "metadata": {},
   "outputs": [
    {
     "name": "stdout",
     "output_type": "stream",
     "text": [
      "          0           1             2           3            4           5    \\\n",
      "0    0.212121    0.883495      0.920092    0.089762     1.057204    0.064935   \n",
      "1  202.000000  154.000000   2271.000000  669.000000   480.000000  448.000000   \n",
      "2   49.000000  273.000000  13138.000000   64.000000  6912.000000   30.000000   \n",
      "3  231.000000  309.000000  14279.000000  713.000000  6538.000000  462.000000   \n",
      "4    0.204167    1.137500     54.741667    0.266667    28.800000    0.125000   \n",
      "5    0.962500    1.287500     59.495833    2.970833    27.241667    1.925000   \n",
      "6    0.758333    0.150000      4.754167    2.704167    -1.558333    1.800000   \n",
      "7    6.000000   67.000000    387.000000    8.000000   128.000000    5.000000   \n",
      "8   37.000000   -7.000000     53.000000   92.000000    12.000000   95.000000   \n",
      "\n",
      "           6          7           8           9    ...        392         393  \\\n",
      "0     1.034544   0.436170    0.043357    0.295139  ...   0.458333    0.167832   \n",
      "1  1736.000000  67.000000  688.000000  442.000000  ...  39.000000  770.000000   \n",
      "2  6948.000000  41.000000   31.000000  170.000000  ...  33.000000  144.000000   \n",
      "3  6716.000000  94.000000  715.000000  576.000000  ...  72.000000  858.000000   \n",
      "4    28.950000   0.170833    0.129167    0.708333  ...   0.137500    0.600000   \n",
      "5    27.983333   0.391667    2.979167    2.400000  ...   0.300000    3.575000   \n",
      "6    -0.966667   0.220833    2.850000    1.691667  ...   0.162500    2.975000   \n",
      "7   155.000000  13.000000    4.000000   30.000000  ...  33.000000   23.000000   \n",
      "8    45.000000  -3.000000  316.000000   70.000000  ...   7.000000   77.000000   \n",
      "\n",
      "             394          395        396         397         398         399  \\\n",
      "0       0.719327     0.036122   0.866667    0.206030    0.227273    0.065757   \n",
      "1   30207.000000  1024.000000   8.000000  170.000000  249.000000  789.000000   \n",
      "2   75843.000000    38.000000  52.000000   41.000000   65.000000   53.000000   \n",
      "3  105436.000000  1052.000000  60.000000  199.000000  286.000000  806.000000   \n",
      "4     316.012500     0.158333   0.216667    0.170833    0.270833    0.220833   \n",
      "5     439.316667     4.383333   0.250000    0.829167    1.191667    3.358333   \n",
      "6     123.304167     4.225000   0.033333    0.658333    0.920833    3.137500   \n",
      "7    7661.000000     4.000000   1.000000    5.000000    5.000000   16.000000   \n",
      "8      -1.000000   116.000000   1.000000   65.000000  195.000000  104.000000   \n",
      "\n",
      "          400         401  \n",
      "0    0.335000    0.036534  \n",
      "1  159.000000  927.000000  \n",
      "2   67.000000   35.000000  \n",
      "3  200.000000  958.000000  \n",
      "4    0.279167    0.145833  \n",
      "5    0.833333    3.991667  \n",
      "6    0.554167    3.845833  \n",
      "7    8.000000   20.000000  \n",
      "8   92.000000   80.000000  \n",
      "\n",
      "[9 rows x 402 columns]\n"
     ]
    }
   ],
   "source": [
    "data=DataFrame(lis_value)#这时候是以行为标准写入的\n",
    "print(data)"
   ]
  },
  {
   "cell_type": "code",
   "execution_count": 19,
   "metadata": {},
   "outputs": [],
   "source": [
    "data=data.T#转置之后得到想要的结果\n"
   ]
  },
  {
   "cell_type": "code",
   "execution_count": 20,
   "metadata": {},
   "outputs": [],
   "source": [
    "data.to_excel(\"1.xlsx\", sheet_name=\"初步处理\")\n"
   ]
  },
  {
   "cell_type": "code",
   "execution_count": 21,
   "metadata": {},
   "outputs": [
    {
     "name": "stdout",
     "output_type": "stream",
     "text": [
      "相关系数阵为：\n",
      " [[ 1.         -0.05815765  0.20760418  0.14253788  0.20760418  0.14253788\n",
      "  -0.06956186  0.05705161 -0.41341182]\n",
      " [-0.05815765  1.          0.41528647  0.68848067  0.41528647  0.68848067\n",
      "   0.99954263  0.77836251  0.15868403]\n",
      " [ 0.20760418  0.41528647  1.          0.94563595  1.          0.94563595\n",
      "   0.39625205  0.49598788 -0.09691195]\n",
      " [ 0.14253788  0.68848067  0.94563595  1.          0.94563595  1.\n",
      "   0.67331476  0.67307314 -0.02025434]\n",
      " [ 0.20760418  0.41528647  1.          0.94563595  1.          0.94563595\n",
      "   0.39625205  0.49598788 -0.09691195]\n",
      " [ 0.14253788  0.68848067  0.94563595  1.          0.94563595  1.\n",
      "   0.67331476  0.67307314 -0.02025434]\n",
      " [-0.06956186  0.99954263  0.39625205  0.67331476  0.39625205  0.67331476\n",
      "   1.          0.77258316  0.16313547]\n",
      " [ 0.05705161  0.77836251  0.49598788  0.67307314  0.49598788  0.67307314\n",
      "   0.77258316  1.         -0.07181413]\n",
      " [-0.41341182  0.15868403 -0.09691195 -0.02025434 -0.09691195 -0.02025434\n",
      "   0.16313547 -0.07181413  1.        ]]\n"
     ]
    }
   ],
   "source": [
    "#主成分分析，对于9个指标进行降维到3个\n",
    "r=np.corrcoef(data.T)#数据标准化并计算相关系数矩阵\n",
    "print(\"相关系数阵为：\\n\", np.corrcoef(data.T))\n"
   ]
  },
  {
   "cell_type": "code",
   "execution_count": 22,
   "metadata": {},
   "outputs": [],
   "source": [
    "d, e = np.linalg.eig(r) "
   ]
  },
  {
   "cell_type": "code",
   "execution_count": 23,
   "metadata": {},
   "outputs": [
    {
     "name": "stdout",
     "output_type": "stream",
     "text": [
      "特征值为： [ 5.34239282e+00+0.00000000e+00j  1.74821117e+00+0.00000000e+00j\n",
      "  1.06980295e+00+0.00000000e+00j  5.90459753e-01+0.00000000e+00j\n",
      "  2.48902155e-01+0.00000000e+00j  2.31153688e-04+0.00000000e+00j\n",
      "  6.16108128e-17+0.00000000e+00j -1.62431621e-16+4.36811227e-17j\n",
      " -1.62431621e-16-4.36811227e-17j]\n",
      "特征向量为：\n",
      " [[ 5.90495738e-02+0.00000000e+00j -5.16453996e-01+0.00000000e+00j\n",
      "   4.20070464e-01+0.00000000e+00j  7.43059021e-01+0.00000000e+00j\n",
      "   3.41123935e-02+0.00000000e+00j  5.37205412e-03+0.00000000e+00j\n",
      "   1.04276818e-16+0.00000000e+00j -9.23248365e-16+9.38947219e-16j\n",
      "  -9.23248365e-16-9.38947219e-16j]\n",
      " [ 3.45100550e-01+0.00000000e+00j  3.69545741e-01+0.00000000e+00j\n",
      "   2.97137965e-01+0.00000000e+00j  8.17458914e-02+0.00000000e+00j\n",
      "  -3.26189273e-01+0.00000000e+00j -7.36864135e-01+0.00000000e+00j\n",
      "  -5.07027919e-15+0.00000000e+00j  1.22520326e-13-1.32941773e-13j\n",
      "   1.22520326e-13+1.32941773e-13j]\n",
      " [ 3.77785542e-01+0.00000000e+00j -2.74910961e-01+0.00000000e+00j\n",
      "  -3.11750077e-01+0.00000000e+00j -4.54253866e-02+0.00000000e+00j\n",
      "   2.88764779e-02+0.00000000e+00j -1.04474478e-01+0.00000000e+00j\n",
      "   7.38916798e-03+0.00000000e+00j -5.57637288e-01-5.95873990e-03j\n",
      "  -5.57637288e-01+5.95873990e-03j]\n",
      " [ 4.24478847e-01+0.00000000e+00j -8.63737084e-02+0.00000000e+00j\n",
      "  -1.43473303e-01+0.00000000e+00j -9.27049900e-03+0.00000000e+00j\n",
      "  -9.56329165e-02+0.00000000e+00j  1.38932109e-01+0.00000000e+00j\n",
      "   2.22982464e-01+0.00000000e+00j  6.64731553e-02+2.89058401e-01j\n",
      "   6.64731553e-02-2.89058401e-01j]\n",
      " [ 3.77785542e-01+0.00000000e+00j -2.74910961e-01+0.00000000e+00j\n",
      "  -3.11750077e-01+0.00000000e+00j -4.54253866e-02+0.00000000e+00j\n",
      "   2.88764779e-02+0.00000000e+00j -1.04474478e-01+0.00000000e+00j\n",
      "   4.76212378e-01+0.00000000e+00j -4.59082781e-02-2.26812559e-01j\n",
      "  -4.59082781e-02+2.26812559e-01j]\n",
      " [ 4.24478847e-01+0.00000000e+00j -8.63737084e-02+0.00000000e+00j\n",
      "  -1.43473303e-01+0.00000000e+00j -9.27049900e-03+0.00000000e+00j\n",
      "  -9.56329165e-02+0.00000000e+00j  1.38932109e-01+0.00000000e+00j\n",
      "  -8.23525101e-01+0.00000000e+00j  6.83017513e-01+0.00000000e+00j\n",
      "   6.83017513e-01-0.00000000e+00j]\n",
      " [ 3.39497454e-01+0.00000000e+00j  3.81129845e-01+0.00000000e+00j\n",
      "   3.03681489e-01+0.00000000e+00j  7.70965867e-02+0.00000000e+00j\n",
      "  -3.35625711e-01+0.00000000e+00j  6.29723693e-01+0.00000000e+00j\n",
      "   2.12726114e-01+0.00000000e+00j -2.65486957e-01-1.02391182e-01j\n",
      "  -2.65486957e-01+1.02391182e-01j]\n",
      " [ 3.41037651e-01+0.00000000e+00j  1.70122418e-01+0.00000000e+00j\n",
      "   3.61754220e-01+0.00000000e+00j -1.51826376e-01+0.00000000e+00j\n",
      "   8.37151212e-01+0.00000000e+00j  3.48813437e-03+0.00000000e+00j\n",
      "   1.03974050e-16+0.00000000e+00j -7.68752745e-16+7.47908180e-16j\n",
      "  -7.68752745e-16-7.47908180e-16j]\n",
      " [-6.71888450e-03+0.00000000e+00j  5.06395805e-01+0.00000000e+00j\n",
      "  -5.25942843e-01+0.00000000e+00j  6.38660280e-01+0.00000000e+00j\n",
      "   2.42922048e-01+0.00000000e+00j  2.04844214e-03+0.00000000e+00j\n",
      "   9.59113482e-17+0.00000000e+00j -4.40020523e-16+3.83550939e-16j\n",
      "  -4.40020523e-16-3.83550939e-16j]]\n",
      "各主成分的贡献率为： [ 5.93599203e-01+0.00000000e+00j  1.94245685e-01+0.00000000e+00j\n",
      "  1.18866994e-01+0.00000000e+00j  6.56066392e-02+0.00000000e+00j\n",
      "  2.76557949e-02+0.00000000e+00j  2.56837431e-05+0.00000000e+00j\n",
      "  6.84564587e-18+0.00000000e+00j -1.80479579e-17+4.85345808e-18j\n",
      " -1.80479579e-17-4.85345808e-18j]\n"
     ]
    }
   ],
   "source": [
    "rate = d / d.sum()  # 计算各主成分的贡献率\n",
    "print(\"特征值为：\", d)\n",
    "print(\"特征向量为：\\n\", e)\n",
    "print(\"各主成分的贡献率为：\", rate)"
   ]
  },
  {
   "cell_type": "code",
   "execution_count": 29,
   "metadata": {},
   "outputs": [
    {
     "name": "stdout",
     "output_type": "stream",
     "text": [
      "特征值为： [5.3424, 1.7482, 1.0698, 0.5905, 0.2489, 0.0002, 0.0, 0.0, 0.0]\n",
      "各主成分的贡献率为： [0.5936, 0.1942, 0.1189, 0.0656, 0.0277, 0.0, 0.0, 0.0, 0.0]\n"
     ]
    }
   ],
   "source": [
    "d_1=[]#主成分特征值\n",
    "rate_1=[]\n",
    "e_1=[]\n",
    "for i in range(len(d)):\n",
    "    d_1.append(np.round(abs(d[i]),4))\n",
    "    rate_1.append(np.round(abs(rate[i]),4))\n",
    "    e_1.append(np.round(abs(e[i]),4))\n",
    "print(\"特征值为：\",d_1)\n",
    "#print(rate_1)\n",
    "print(\"各主成分的贡献率为：\",rate_1)"
   ]
  },
  {
   "cell_type": "code",
   "execution_count": 25,
   "metadata": {},
   "outputs": [],
   "source": []
  },
  {
   "cell_type": "code",
   "execution_count": 34,
   "metadata": {},
   "outputs": [],
   "source": [
    " "
   ]
  },
  {
   "cell_type": "code",
   "execution_count": 35,
   "metadata": {},
   "outputs": [],
   "source": [
    "k = 5 # 提出主成分的个数\n",
    "F = e_1[:, :k]\n",
    "score_mat = data.dot(F)  # 计算主成分得分矩阵\n",
    "score1 = score_mat.dot(rate_1[0:k])  # 计算各评价对象的得分"
   ]
  },
  {
   "cell_type": "code",
   "execution_count": 36,
   "metadata": {},
   "outputs": [
    {
     "data": {
      "text/plain": [
       "0       158.711580\n",
       "1       246.906463\n",
       "2      9221.656991\n",
       "3       468.792828\n",
       "4      4307.363936\n",
       "          ...     \n",
       "397     142.052961\n",
       "398     228.606249\n",
       "399     536.621153\n",
       "400     153.764188\n",
       "401     616.368336\n",
       "Length: 402, dtype: float64"
      ]
     },
     "execution_count": 36,
     "metadata": {},
     "output_type": "execute_result"
    }
   ],
   "source": [
    "score1"
   ]
  },
  {
   "cell_type": "code",
   "execution_count": 37,
   "metadata": {},
   "outputs": [
    {
     "name": "stdout",
     "output_type": "stream",
     "text": [
      "从各个供应商的编号排序为： 0       25\n",
      "1      205\n",
      "2      304\n",
      "3       32\n",
      "4       43\n",
      "      ... \n",
      "397    150\n",
      "398    360\n",
      "399    228\n",
      "400    200\n",
      "401    139\n",
      "Length: 402, dtype: int64\n"
     ]
    }
   ],
   "source": [
    "index = score1.argsort()  # 排序后的每个元素在原数组中的位置\n",
    "print(\"从各个供应商的编号排序为：\", index)"
   ]
  },
  {
   "cell_type": "code",
   "execution_count": 214,
   "metadata": {},
   "outputs": [],
   "source": [
    "score1.to_excel(\"2.xlsx\", sheet_name=\"供应商得分\")"
   ]
  },
  {
   "cell_type": "code",
   "execution_count": null,
   "metadata": {},
   "outputs": [],
   "source": []
  }
 ],
 "metadata": {
  "kernelspec": {
   "display_name": "Python 3",
   "language": "python",
   "name": "python3"
  },
  "language_info": {
   "codemirror_mode": {
    "name": "ipython",
    "version": 3
   },
   "file_extension": ".py",
   "mimetype": "text/x-python",
   "name": "python",
   "nbconvert_exporter": "python",
   "pygments_lexer": "ipython3",
   "version": "3.8.5"
  }
 },
 "nbformat": 4,
 "nbformat_minor": 4
}
