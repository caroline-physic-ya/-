{
 "cells": [
  {
   "cell_type": "code",
   "execution_count": null,
   "metadata": {},
   "outputs": [],
   "source": []
  },
  {
   "cell_type": "code",
   "execution_count": 132,
   "metadata": {},
   "outputs": [],
   "source": [
    "import xlrd\n",
    "import xlwt\n",
    "import pandas as pd\n",
    "from pandas.core.frame import DataFrame\n",
    "import numpy as np\n",
    "from scipy.stats import zscore"
   ]
  },
  {
   "cell_type": "code",
   "execution_count": 133,
   "metadata": {},
   "outputs": [],
   "source": [
    "\n",
    "import cvxpy as cp\n",
    "\n",
    "#设置目标函数中变量个数\n",
    "n=3\n",
    "\n",
    "#输入目标函数的系数\n",
    "c=np.array([0.72,0.726,0.72])\n",
    "\n"
   ]
  },
  {
   "cell_type": "code",
   "execution_count": 134,
   "metadata": {},
   "outputs": [
    {
     "name": "stdout",
     "output_type": "stream",
     "text": [
      "All sheets: ['Sheet1']\n"
     ]
    }
   ],
   "source": [
    "# 打开文件\n",
    "xlsx = xlrd.open_workbook('A_50.xlsx')\n",
    "# 查看所有sheet列表\n",
    "print('All sheets: %s' % xlsx.sheet_names())\n"
   ]
  },
  {
   "cell_type": "code",
   "execution_count": 135,
   "metadata": {},
   "outputs": [],
   "source": [
    "sheeta = xlsx.sheets()[0]    # 获得第1张sheet，索引从0开始\n",
    "sheeta_name = sheeta.name    # 获得名称\n",
    "sheeta_cols = sheeta.ncols   # 获得列数\n",
    "sheeta_nrows = sheeta.nrows  # 获得行数"
   ]
  },
  {
   "cell_type": "code",
   "execution_count": 136,
   "metadata": {},
   "outputs": [],
   "source": [
    "dic_a={}\n",
    "for i in range(sheeta.nrows-1):\n",
    "            lis=[]\n",
    "            for j in range(2,sheeta.ncols):\n",
    "                lis.append(sheeta.cell(i+1,j).value)\n",
    "                \n",
    "            dic_a[sheeta.cell(i+1,0).value]=lis"
   ]
  },
  {
   "cell_type": "code",
   "execution_count": 137,
   "metadata": {},
   "outputs": [],
   "source": [
    "dic_a_value=list(dic_a.values())"
   ]
  },
  {
   "cell_type": "code",
   "execution_count": 138,
   "metadata": {},
   "outputs": [
    {
     "name": "stdout",
     "output_type": "stream",
     "text": [
      "All sheets: ['Sheet1']\n"
     ]
    }
   ],
   "source": [
    "# 打开文件\n",
    "xlsx = xlrd.open_workbook('B_50.xlsx')\n",
    "# 查看所有sheet列表\n",
    "print('All sheets: %s' % xlsx.sheet_names())\n",
    "sheetb = xlsx.sheets()[0]    # 获得第1张sheet，索引从0开始\n",
    "dic_b={}\n",
    "for i in range(sheetb.nrows-1):\n",
    "            lis=[]\n",
    "            for j in range(2,sheetb.ncols):\n",
    "                lis.append(sheetb.cell(i+1,j).value)\n",
    "                \n",
    "            dic_b[sheetb.cell(i+1,0).value]=lis"
   ]
  },
  {
   "cell_type": "code",
   "execution_count": 139,
   "metadata": {},
   "outputs": [],
   "source": [
    "dic_b_value=list(dic_b.values())"
   ]
  },
  {
   "cell_type": "code",
   "execution_count": 140,
   "metadata": {},
   "outputs": [
    {
     "name": "stdout",
     "output_type": "stream",
     "text": [
      "All sheets: ['Sheet1']\n"
     ]
    }
   ],
   "source": [
    "# 打开文件\n",
    "xlsx = xlrd.open_workbook('c_50.xlsx')\n",
    "# 查看所有sheet列表\n",
    "print('All sheets: %s' % xlsx.sheet_names())\n",
    "sheetc = xlsx.sheets()[0]    # 获得第1张sheet，索引从0开始\n",
    "dic_c={}\n",
    "for i in range(sheetb.nrows-1):\n",
    "            lis=[]\n",
    "            for j in range(2,sheetc.ncols):\n",
    "                lis.append(sheetc.cell(i+1,j).value)\n",
    "                \n",
    "            dic_c[sheetc.cell(i+1,0).value]=lis"
   ]
  },
  {
   "cell_type": "code",
   "execution_count": 141,
   "metadata": {},
   "outputs": [],
   "source": [
    "dic_c_value=list(dic_c.values())"
   ]
  },
  {
   "cell_type": "code",
   "execution_count": 172,
   "metadata": {},
   "outputs": [],
   "source": [
    "#选择商家数\n",
    "ka=10\n",
    "kb=10\n",
    "kc=17\n",
    "#选择商家第几周\n",
    "week=0"
   ]
  },
  {
   "cell_type": "code",
   "execution_count": 173,
   "metadata": {},
   "outputs": [],
   "source": [
    "dic_a_value=np.array(dic_a_value)\n",
    "dic_b_value=np.array(dic_b_value)\n",
    "dic_c_value=np.array(dic_c_value)"
   ]
  },
  {
   "cell_type": "code",
   "execution_count": 174,
   "metadata": {},
   "outputs": [],
   "source": [
    "#第一周线性规划\n",
    "week=1\n",
    "sum_a=0\n",
    "sum_b=0\n",
    "sum_c=0\n",
    "for i in range(0,ka):\n",
    "    sum_a=int(dic_a_value[i,week-1])+sum_a\n",
    "for i in range(0,kb):\n",
    "    sum_b=int(dic_b_value[i,week-1])+sum_b\n",
    "for i in range(0,kc):\n",
    "    sum_c=int(dic_c_value[i,week-1])+sum_c\n",
    "sum=[sum_a,sum_b,sum_c]"
   ]
  },
  {
   "cell_type": "code",
   "execution_count": 175,
   "metadata": {},
   "outputs": [
    {
     "data": {
      "text/plain": [
       "[59269, 50903, 37091]"
      ]
     },
     "execution_count": 175,
     "metadata": {},
     "output_type": "execute_result"
    }
   ],
   "source": [
    "sum"
   ]
  },
  {
   "cell_type": "code",
   "execution_count": 59,
   "metadata": {},
   "outputs": [
    {
     "name": "stderr",
     "output_type": "stream",
     "text": [
      "/Users/caroline_physic/opt/anaconda3/lib/python3.8/site-packages/cvxpy/expressions/expression.py:556: UserWarning: \n",
      "This use of ``*`` has resulted in matrix multiplication.\n",
      "Using ``*`` for matrix multiplication has been deprecated since CVXPY 1.1.\n",
      "    Use ``*`` for matrix-scalar and vector-scalar multiplication.\n",
      "    Use ``@`` for matrix-matrix and matrix-vector multiplication.\n",
      "    Use ``multiply`` for elementwise multiplication.\n",
      "This code path has been hit 17 times so far.\n",
      "\n",
      "  warnings.warn(msg, UserWarning)\n",
      "/Users/caroline_physic/opt/anaconda3/lib/python3.8/site-packages/cvxpy/expressions/expression.py:556: UserWarning: \n",
      "This use of ``*`` has resulted in matrix multiplication.\n",
      "Using ``*`` for matrix multiplication has been deprecated since CVXPY 1.1.\n",
      "    Use ``*`` for matrix-scalar and vector-scalar multiplication.\n",
      "    Use ``@`` for matrix-matrix and matrix-vector multiplication.\n",
      "    Use ``multiply`` for elementwise multiplication.\n",
      "This code path has been hit 18 times so far.\n",
      "\n",
      "  warnings.warn(msg, UserWarning)\n"
     ]
    },
    {
     "name": "stdout",
     "output_type": "stream",
     "text": [
      "67680.0\n",
      "[94000.    -0.    -0.]\n"
     ]
    }
   ],
   "source": [
    "#输入约束条件的系数矩阵（3×3）\n",
    "a=np.array([0.6,0.66,0.72])\n",
    "\n",
    "#输入b值（3×1）\n",
    "b=np.array([56400])\n",
    "\n",
    "#创建x，个数是3\n",
    "x=cp.Variable(n,integer=True)\n",
    "\n",
    "#明确目标函数（此时c是3×1，x是3×1,但python里面可以相乘）\n",
    "objective=cp.Maximize(cp.sum(c*x))\n",
    "\n",
    "#明确约束条件，其中a是3×3，x是3×1,a*x=b(b为3×1的矩阵)\n",
    "constriants=[0<=x,a*x<=b]\n",
    "#求解问题\n",
    "prob=cp.Problem(objective,constriants)\n",
    "#这里solver必须使用cp.CPLEX,否则计算不出来，而CPLEX需要pip intall CPLEX(建议使用清华镜像)\n",
    "resluts=prob.solve(solver=cp.CPLEX)\n",
    "\n",
    "#输入结果\n",
    "print(prob.value)#目标函数的值\n",
    "print(x.value)#各x的值\n"
   ]
  },
  {
   "cell_type": "code",
   "execution_count": null,
   "metadata": {},
   "outputs": [],
   "source": []
  }
 ],
 "metadata": {
  "kernelspec": {
   "display_name": "Python 3",
   "language": "python",
   "name": "python3"
  },
  "language_info": {
   "codemirror_mode": {
    "name": "ipython",
    "version": 3
   },
   "file_extension": ".py",
   "mimetype": "text/x-python",
   "name": "python",
   "nbconvert_exporter": "python",
   "pygments_lexer": "ipython3",
   "version": "3.8.5"
  }
 },
 "nbformat": 4,
 "nbformat_minor": 4
}
